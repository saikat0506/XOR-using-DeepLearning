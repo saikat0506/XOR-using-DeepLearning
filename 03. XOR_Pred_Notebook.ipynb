{
 "cells": [
  {
   "cell_type": "markdown",
   "id": "2ce85572",
   "metadata": {},
   "source": [
    "# MAKE PREDICTIONS WITH USER INPUT\n"
   ]
  },
  {
   "cell_type": "code",
   "execution_count": null,
   "id": "8c8e882e",
   "metadata": {},
   "outputs": [],
   "source": [
    "# !pip install numpy pandas tensorflow keras matplotlib"
   ]
  },
  {
   "cell_type": "code",
   "execution_count": 4,
   "id": "56c3fb2f",
   "metadata": {},
   "outputs": [
    {
     "name": "stdout",
     "output_type": "stream",
     "text": [
      "\u001b[1m1/1\u001b[0m \u001b[32m━━━━━━━━━━━━━━━━━━━━\u001b[0m\u001b[37m\u001b[0m \u001b[1m0s\u001b[0m 51ms/step\n",
      "\n",
      "Predicted Class for Input: (1, 1) is 0 \n",
      "prediction probability is : 1.21%\n"
     ]
    }
   ],
   "source": [
    "from tensorflow.keras.models import model_from_json\n",
    "import numpy as np\n",
    "\n",
    "# Load the saved model architecture from JSON\n",
    "with open('model/xor_model.json', 'r') as json_file:\n",
    "    loaded_model_json = json_file.read()\n",
    "loaded_model = model_from_json(loaded_model_json)\n",
    "\n",
    "# Load the saved model weights from HDF5\n",
    "loaded_model.load_weights('model/xor_model_weights.weights.h5')\n",
    "\n",
    "def predict_xor(model):\n",
    "    \"\"\"Takes user input for x1 and x2 and prints the prediction.\"\"\"\n",
    "    try:       \n",
    "        while True:\n",
    "            try:\n",
    "                x1 = int(input(\"Enter the value for x1 (0 or 1): \"))\n",
    "                if x1 not in [0, 1]:\n",
    "                    print(f'''x2 must be 0 or 1.   your input is : ''' , x1) \n",
    "                    continue\n",
    "                x2 = int(input(\"Enter the value for x2 (0 or 1): \"))\n",
    "                if x2 not in [0, 1]:\n",
    "                    print(f'''x2 must be 0 or 1.   your input is : ''' , x2)\n",
    "                    continue\n",
    "                break\n",
    "            except ValueError:\n",
    "                print(\"Invalid input. Please enter integer values 0 or 1.\")\n",
    "            \n",
    "\n",
    "        # Prepare input for prediction\n",
    "        input_data = np.array([[x1, x2]])\n",
    "\n",
    "        # Make prediction\n",
    "        prediction = model.predict(input_data)\n",
    "        predicted_prob = prediction[0][0]\n",
    "\n",
    "        # Determine binary output based on threshold\n",
    "        predicted_class = 1 if predicted_prob > 0.5 else 0\n",
    "\n",
    "        # print(f\"\\nInput: ({x1}, {x2})\")\n",
    "        # print(f\"Predicted Probability: {predicted_prob:.4f}\")\n",
    "        # print(f\"Predicted Class (0 or 1): {predicted_class}\")\n",
    "\n",
    "        print(f\"\\nPredicted Class for Input: ({x1}, {x2}) is {predicted_class} \\nprediction probability is : {predicted_prob*100:.2f}%\")\n",
    "\n",
    "    except ValueError:\n",
    "        print(\"Invalid input. Please enter numerical values.\")\n",
    "\n",
    "# Call the function to get user input and predict\n",
    "predict_xor(loaded_model)"
   ]
  },
  {
   "cell_type": "code",
   "execution_count": null,
   "id": "61cec748",
   "metadata": {},
   "outputs": [],
   "source": []
  }
 ],
 "metadata": {
  "kernelspec": {
   "display_name": "Python 3",
   "language": "python",
   "name": "python3"
  },
  "language_info": {
   "codemirror_mode": {
    "name": "ipython",
    "version": 3
   },
   "file_extension": ".py",
   "mimetype": "text/x-python",
   "name": "python",
   "nbconvert_exporter": "python",
   "pygments_lexer": "ipython3",
   "version": "3.13.5"
  }
 },
 "nbformat": 4,
 "nbformat_minor": 5
}
