{
 "cells": [
  {
   "cell_type": "code",
   "execution_count": null,
   "id": "0bad2cd4",
   "metadata": {},
   "outputs": [],
   "source": [
    "!pip install numpy pandas"
   ]
  },
  {
   "cell_type": "markdown",
   "id": "f118ce9f",
   "metadata": {},
   "source": [
    "# Synthetic Dataset for truth table XOR\n",
    "\n"
   ]
  },
  {
   "cell_type": "code",
   "execution_count": null,
   "id": "8fce410d",
   "metadata": {},
   "outputs": [],
   "source": [
    "import numpy as np\n",
    "import pandas as pd\n",
    "\n",
    "# Set seed for reproducibility\n",
    "np.random.seed(42)\n",
    "\n",
    "# Generate 100 samples per input combination\n",
    "data = []\n",
    "for _ in range(100):\n",
    "    # (0, 0) -> 0.1\n",
    "    x1_00 = np.clip(np.random.normal(0, 0.1), -0.3, 0.3)\n",
    "    x2_00 = np.clip(np.random.normal(0, 0.1), -0.3, 0.3)\n",
    "    data.append([x1_00, x2_00, 0])\n",
    "\n",
    "    # (0, 1) -> 0.9\n",
    "    x1_01 = np.clip(np.random.normal(0, 0.1), -0.3, 0.3)\n",
    "    x2_01 = np.clip(np.random.normal(1, 0.1), 0.7, 1.3)\n",
    "    data.append([x1_01, x2_01, 1])\n",
    "\n",
    "    # (1, 0) -> 0.9\n",
    "    x1_10 = np.clip(np.random.normal(1, 0.1), 0.7, 1.3)\n",
    "    x2_10 = np.clip(np.random.normal(0, 0.1), -0.3, 0.3)\n",
    "    data.append([x1_10, x2_10, 1])\n",
    "\n",
    "    # (1, 1) -> 0.1\n",
    "    x1_11 = np.clip(np.random.normal(1, 0.1), 0.7, 1.3)\n",
    "    x2_11 = np.clip(np.random.normal(1, 0.1), 0.7, 1.3)\n",
    "    data.append([x1_11, x2_11, 0])\n",
    "\n",
    "# Create DataFrame\n",
    "df = pd.DataFrame(data, columns=['x1', 'x2', 'y'])\n",
    "\n",
    "# Save to CSV\n",
    "df.to_csv('xor_synthetic_dataset.csv', index=False)"
   ]
  },
  {
   "cell_type": "markdown",
   "id": "bea1026d",
   "metadata": {},
   "source": [
    "### Code snippet explaination\n",
    "\n",
    "```python\n",
    "x1_00 = np.clip(np.random.normal(0, 0.1), -0.3, 0.3)\n",
    "x2_00 = np.clip(np.random.normal(0, 0.1), -0.3, 0.3)\n",
    "data.append([x1_00, x2_00, 0.1])\n",
    "```\n",
    "\n",
    "\n",
    "#### 1. `np.random.normal(0, 0.1)`\n",
    "- **Purpose**: Generates random values from a normal (Gaussian) distribution\n",
    "- **Parameters**:\n",
    "  - `0`: Mean (center) of the distribution\n",
    "  - `0.1`: Standard deviation (spread) of the distribution\n",
    "- **Why?**\n",
    "  - We're simulating the (0,0) input case for XOR\n",
    "  - The mean of 0 centers values around the ideal input (0)\n",
    "  - Standard deviation of 0.1 adds small, realistic noise to prevent overfitting to exact values\n",
    "  - This mimics real-world data where inputs are rarely perfect 0s or 1s\n",
    "\n",
    "#### 2. `np.clip(..., -0.3, 0.3)`\n",
    "- **Purpose**: Constrains values within a specified range\n",
    "- **Parameters**:\n",
    "  - Lower bound: `-0.3`\n",
    "  - Upper bound: `0.3`\n",
    "- **Why these bounds?**\n",
    "  - Prevents extreme values that could saturate activation functions\n",
    "  - For sigmoid: Values beyond ±3 cause saturation (output near 0 or 1)\n",
    "  - For ReLU: Negative values would output 0, losing information\n",
    "  - Keeping values in [-0.3, 0.3] ensures:\n",
    "    - Sigmoid operates in its high-gradient region (better learning)\n",
    "    - ReLU won't kill negative inputs\n",
    "    - Values are close to 0 but with meaningful variation\n",
    "\n",
    "#### 3. `x1_00` and `x2_00`\n",
    "- **Purpose**: Represents the two input features for one sample\n",
    "- **Naming convention**:\n",
    "  - `x1_00`: First input feature for (0,0) case\n",
    "  - `x2_00`: Second input feature for (0,0) case\n",
    "- **Why two separate variables?**\n",
    "  - XOR requires two binary inputs\n",
    "  - Each input gets its own noise injection\n",
    "  - Creates diversity while maintaining the (0,0) relationship\n",
    "\n",
    "### 4. `data.append([x1_00, x2_00, 0])`\n",
    "- **Purpose**: Adds a complete training sample to our dataset\n",
    "- **Structure**: `[input1, input2, target_output]`\n",
    "- **Target value `0`**:\n",
    "  - Represents the XOR output for (0,0) inputs\n"
   ]
  }
 ],
 "metadata": {
  "kernelspec": {
   "display_name": "Python 3",
   "language": "python",
   "name": "python3"
  },
  "language_info": {
   "codemirror_mode": {
    "name": "ipython",
    "version": 3
   },
   "file_extension": ".py",
   "mimetype": "text/x-python",
   "name": "python",
   "nbconvert_exporter": "python",
   "pygments_lexer": "ipython3",
   "version": "3.13.5"
  }
 },
 "nbformat": 4,
 "nbformat_minor": 5
}
